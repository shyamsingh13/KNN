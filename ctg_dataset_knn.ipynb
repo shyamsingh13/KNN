{
 "cells": [
  {
   "cell_type": "code",
   "execution_count": 1,
   "id": "83b8a40e",
   "metadata": {},
   "outputs": [],
   "source": [
    "import pandas as pd # importing the pandas lib"
   ]
  },
  {
   "cell_type": "code",
   "execution_count": 2,
   "id": "7ac5dc6e",
   "metadata": {},
   "outputs": [],
   "source": [
    "ctg = pd.read_csv(r\"F:\\carreer\\CTG.csv\") # loading the data"
   ]
  },
  {
   "cell_type": "markdown",
   "id": "25fb0167",
   "metadata": {},
   "source": [
    "# Data cleaning and preprocessing "
   ]
  },
  {
   "cell_type": "code",
   "execution_count": 3,
   "id": "0bed5ad0",
   "metadata": {},
   "outputs": [
    {
     "data": {
      "text/plain": [
       "(2126, 4)"
      ]
     },
     "execution_count": 3,
     "metadata": {},
     "output_type": "execute_result"
    }
   ],
   "source": [
    "ctg.shape # rows and cols"
   ]
  },
  {
   "cell_type": "code",
   "execution_count": 4,
   "id": "1195b61a",
   "metadata": {},
   "outputs": [
    {
     "data": {
      "text/html": [
       "<div>\n",
       "<style scoped>\n",
       "    .dataframe tbody tr th:only-of-type {\n",
       "        vertical-align: middle;\n",
       "    }\n",
       "\n",
       "    .dataframe tbody tr th {\n",
       "        vertical-align: top;\n",
       "    }\n",
       "\n",
       "    .dataframe thead th {\n",
       "        text-align: right;\n",
       "    }\n",
       "</style>\n",
       "<table border=\"1\" class=\"dataframe\">\n",
       "  <thead>\n",
       "    <tr style=\"text-align: right;\">\n",
       "      <th></th>\n",
       "      <th>LB</th>\n",
       "      <th>AC</th>\n",
       "      <th>FM</th>\n",
       "      <th>NSP</th>\n",
       "    </tr>\n",
       "  </thead>\n",
       "  <tbody>\n",
       "    <tr>\n",
       "      <th>0</th>\n",
       "      <td>120</td>\n",
       "      <td>0.000</td>\n",
       "      <td>0.000</td>\n",
       "      <td>2</td>\n",
       "    </tr>\n",
       "    <tr>\n",
       "      <th>1</th>\n",
       "      <td>132</td>\n",
       "      <td>0.006</td>\n",
       "      <td>0.000</td>\n",
       "      <td>1</td>\n",
       "    </tr>\n",
       "    <tr>\n",
       "      <th>2</th>\n",
       "      <td>133</td>\n",
       "      <td>0.003</td>\n",
       "      <td>0.000</td>\n",
       "      <td>1</td>\n",
       "    </tr>\n",
       "    <tr>\n",
       "      <th>3</th>\n",
       "      <td>134</td>\n",
       "      <td>0.003</td>\n",
       "      <td>0.000</td>\n",
       "      <td>1</td>\n",
       "    </tr>\n",
       "    <tr>\n",
       "      <th>4</th>\n",
       "      <td>132</td>\n",
       "      <td>0.007</td>\n",
       "      <td>0.000</td>\n",
       "      <td>1</td>\n",
       "    </tr>\n",
       "    <tr>\n",
       "      <th>5</th>\n",
       "      <td>134</td>\n",
       "      <td>0.001</td>\n",
       "      <td>0.000</td>\n",
       "      <td>3</td>\n",
       "    </tr>\n",
       "    <tr>\n",
       "      <th>6</th>\n",
       "      <td>134</td>\n",
       "      <td>0.001</td>\n",
       "      <td>0.000</td>\n",
       "      <td>3</td>\n",
       "    </tr>\n",
       "    <tr>\n",
       "      <th>7</th>\n",
       "      <td>122</td>\n",
       "      <td>0.000</td>\n",
       "      <td>0.000</td>\n",
       "      <td>3</td>\n",
       "    </tr>\n",
       "    <tr>\n",
       "      <th>8</th>\n",
       "      <td>122</td>\n",
       "      <td>0.000</td>\n",
       "      <td>0.000</td>\n",
       "      <td>3</td>\n",
       "    </tr>\n",
       "    <tr>\n",
       "      <th>9</th>\n",
       "      <td>122</td>\n",
       "      <td>0.000</td>\n",
       "      <td>0.000</td>\n",
       "      <td>3</td>\n",
       "    </tr>\n",
       "    <tr>\n",
       "      <th>10</th>\n",
       "      <td>151</td>\n",
       "      <td>0.000</td>\n",
       "      <td>0.000</td>\n",
       "      <td>2</td>\n",
       "    </tr>\n",
       "    <tr>\n",
       "      <th>11</th>\n",
       "      <td>150</td>\n",
       "      <td>0.000</td>\n",
       "      <td>0.000</td>\n",
       "      <td>2</td>\n",
       "    </tr>\n",
       "    <tr>\n",
       "      <th>12</th>\n",
       "      <td>131</td>\n",
       "      <td>0.005</td>\n",
       "      <td>0.072</td>\n",
       "      <td>1</td>\n",
       "    </tr>\n",
       "    <tr>\n",
       "      <th>13</th>\n",
       "      <td>131</td>\n",
       "      <td>0.009</td>\n",
       "      <td>0.222</td>\n",
       "      <td>1</td>\n",
       "    </tr>\n",
       "    <tr>\n",
       "      <th>14</th>\n",
       "      <td>130</td>\n",
       "      <td>0.006</td>\n",
       "      <td>0.408</td>\n",
       "      <td>1</td>\n",
       "    </tr>\n",
       "    <tr>\n",
       "      <th>15</th>\n",
       "      <td>130</td>\n",
       "      <td>0.006</td>\n",
       "      <td>0.380</td>\n",
       "      <td>1</td>\n",
       "    </tr>\n",
       "    <tr>\n",
       "      <th>16</th>\n",
       "      <td>130</td>\n",
       "      <td>0.006</td>\n",
       "      <td>0.441</td>\n",
       "      <td>1</td>\n",
       "    </tr>\n",
       "    <tr>\n",
       "      <th>17</th>\n",
       "      <td>131</td>\n",
       "      <td>0.002</td>\n",
       "      <td>0.383</td>\n",
       "      <td>2</td>\n",
       "    </tr>\n",
       "    <tr>\n",
       "      <th>18</th>\n",
       "      <td>130</td>\n",
       "      <td>0.003</td>\n",
       "      <td>0.451</td>\n",
       "      <td>1</td>\n",
       "    </tr>\n",
       "    <tr>\n",
       "      <th>19</th>\n",
       "      <td>130</td>\n",
       "      <td>0.005</td>\n",
       "      <td>0.469</td>\n",
       "      <td>1</td>\n",
       "    </tr>\n",
       "  </tbody>\n",
       "</table>\n",
       "</div>"
      ],
      "text/plain": [
       "     LB     AC     FM  NSP\n",
       "0   120  0.000  0.000    2\n",
       "1   132  0.006  0.000    1\n",
       "2   133  0.003  0.000    1\n",
       "3   134  0.003  0.000    1\n",
       "4   132  0.007  0.000    1\n",
       "5   134  0.001  0.000    3\n",
       "6   134  0.001  0.000    3\n",
       "7   122  0.000  0.000    3\n",
       "8   122  0.000  0.000    3\n",
       "9   122  0.000  0.000    3\n",
       "10  151  0.000  0.000    2\n",
       "11  150  0.000  0.000    2\n",
       "12  131  0.005  0.072    1\n",
       "13  131  0.009  0.222    1\n",
       "14  130  0.006  0.408    1\n",
       "15  130  0.006  0.380    1\n",
       "16  130  0.006  0.441    1\n",
       "17  131  0.002  0.383    2\n",
       "18  130  0.003  0.451    1\n",
       "19  130  0.005  0.469    1"
      ]
     },
     "execution_count": 4,
     "metadata": {},
     "output_type": "execute_result"
    }
   ],
   "source": [
    "ctg.head(20) # taking idea of data"
   ]
  },
  {
   "cell_type": "code",
   "execution_count": 5,
   "id": "e78df980",
   "metadata": {},
   "outputs": [],
   "source": [
    "#LB : beats per second\n",
    "#AC : acceleration per second\n",
    "#FM : fetal movement per second\n",
    "#NSP (Normal 1, suspect 2, pathalogical 3)\n",
    "# medical preg woman\n"
   ]
  },
  {
   "cell_type": "code",
   "execution_count": 6,
   "id": "1b1bf40b",
   "metadata": {},
   "outputs": [
    {
     "data": {
      "text/plain": [
       "1    1655\n",
       "2     295\n",
       "3     176\n",
       "Name: NSP, dtype: int64"
      ]
     },
     "execution_count": 6,
     "metadata": {},
     "output_type": "execute_result"
    }
   ],
   "source": [
    "ctg.NSP.value_counts() "
   ]
  },
  {
   "cell_type": "code",
   "execution_count": 7,
   "id": "e302f08b",
   "metadata": {},
   "outputs": [
    {
     "data": {
      "text/plain": [
       "LB     0\n",
       "AC     0\n",
       "FM     0\n",
       "NSP    0\n",
       "dtype: int64"
      ]
     },
     "execution_count": 7,
     "metadata": {},
     "output_type": "execute_result"
    }
   ],
   "source": [
    "ctg.isnull().sum() # checking the nulls"
   ]
  },
  {
   "cell_type": "markdown",
   "id": "4c510f49",
   "metadata": {},
   "source": [
    "# Data Sampling"
   ]
  },
  {
   "cell_type": "code",
   "execution_count": 8,
   "id": "a4a78682",
   "metadata": {},
   "outputs": [],
   "source": [
    "from sklearn.model_selection import train_test_split"
   ]
  },
  {
   "cell_type": "code",
   "execution_count": 9,
   "id": "1fae7091",
   "metadata": {},
   "outputs": [],
   "source": [
    "ctg_train , ctg_test = train_test_split(ctg,test_size=0.2)"
   ]
  },
  {
   "cell_type": "code",
   "execution_count": 10,
   "id": "dd9ec2fb",
   "metadata": {},
   "outputs": [],
   "source": [
    "ctg_train_x = ctg_train.iloc[:,[0,1,2]]\n",
    "ctg_train_y = ctg_train.iloc[:,-1]"
   ]
  },
  {
   "cell_type": "code",
   "execution_count": 11,
   "id": "dec29159",
   "metadata": {},
   "outputs": [],
   "source": [
    "ctg_test_x = ctg_test.iloc[:,[0,1,2]]\n",
    "ctg_test_y = ctg_test.iloc[:,-1]"
   ]
  },
  {
   "cell_type": "markdown",
   "id": "9b5087b1",
   "metadata": {},
   "source": [
    "# model buiding using the KNN algo"
   ]
  },
  {
   "cell_type": "code",
   "execution_count": 12,
   "id": "d896f860",
   "metadata": {},
   "outputs": [],
   "source": [
    "from sklearn.neighbors import KNeighborsClassifier\n",
    "knn = KNeighborsClassifier(n_neighbors=11)"
   ]
  },
  {
   "cell_type": "code",
   "execution_count": 13,
   "id": "e0302638",
   "metadata": {},
   "outputs": [
    {
     "data": {
      "text/html": [
       "<style>#sk-container-id-1 {color: black;background-color: white;}#sk-container-id-1 pre{padding: 0;}#sk-container-id-1 div.sk-toggleable {background-color: white;}#sk-container-id-1 label.sk-toggleable__label {cursor: pointer;display: block;width: 100%;margin-bottom: 0;padding: 0.3em;box-sizing: border-box;text-align: center;}#sk-container-id-1 label.sk-toggleable__label-arrow:before {content: \"▸\";float: left;margin-right: 0.25em;color: #696969;}#sk-container-id-1 label.sk-toggleable__label-arrow:hover:before {color: black;}#sk-container-id-1 div.sk-estimator:hover label.sk-toggleable__label-arrow:before {color: black;}#sk-container-id-1 div.sk-toggleable__content {max-height: 0;max-width: 0;overflow: hidden;text-align: left;background-color: #f0f8ff;}#sk-container-id-1 div.sk-toggleable__content pre {margin: 0.2em;color: black;border-radius: 0.25em;background-color: #f0f8ff;}#sk-container-id-1 input.sk-toggleable__control:checked~div.sk-toggleable__content {max-height: 200px;max-width: 100%;overflow: auto;}#sk-container-id-1 input.sk-toggleable__control:checked~label.sk-toggleable__label-arrow:before {content: \"▾\";}#sk-container-id-1 div.sk-estimator input.sk-toggleable__control:checked~label.sk-toggleable__label {background-color: #d4ebff;}#sk-container-id-1 div.sk-label input.sk-toggleable__control:checked~label.sk-toggleable__label {background-color: #d4ebff;}#sk-container-id-1 input.sk-hidden--visually {border: 0;clip: rect(1px 1px 1px 1px);clip: rect(1px, 1px, 1px, 1px);height: 1px;margin: -1px;overflow: hidden;padding: 0;position: absolute;width: 1px;}#sk-container-id-1 div.sk-estimator {font-family: monospace;background-color: #f0f8ff;border: 1px dotted black;border-radius: 0.25em;box-sizing: border-box;margin-bottom: 0.5em;}#sk-container-id-1 div.sk-estimator:hover {background-color: #d4ebff;}#sk-container-id-1 div.sk-parallel-item::after {content: \"\";width: 100%;border-bottom: 1px solid gray;flex-grow: 1;}#sk-container-id-1 div.sk-label:hover label.sk-toggleable__label {background-color: #d4ebff;}#sk-container-id-1 div.sk-serial::before {content: \"\";position: absolute;border-left: 1px solid gray;box-sizing: border-box;top: 0;bottom: 0;left: 50%;z-index: 0;}#sk-container-id-1 div.sk-serial {display: flex;flex-direction: column;align-items: center;background-color: white;padding-right: 0.2em;padding-left: 0.2em;position: relative;}#sk-container-id-1 div.sk-item {position: relative;z-index: 1;}#sk-container-id-1 div.sk-parallel {display: flex;align-items: stretch;justify-content: center;background-color: white;position: relative;}#sk-container-id-1 div.sk-item::before, #sk-container-id-1 div.sk-parallel-item::before {content: \"\";position: absolute;border-left: 1px solid gray;box-sizing: border-box;top: 0;bottom: 0;left: 50%;z-index: -1;}#sk-container-id-1 div.sk-parallel-item {display: flex;flex-direction: column;z-index: 1;position: relative;background-color: white;}#sk-container-id-1 div.sk-parallel-item:first-child::after {align-self: flex-end;width: 50%;}#sk-container-id-1 div.sk-parallel-item:last-child::after {align-self: flex-start;width: 50%;}#sk-container-id-1 div.sk-parallel-item:only-child::after {width: 0;}#sk-container-id-1 div.sk-dashed-wrapped {border: 1px dashed gray;margin: 0 0.4em 0.5em 0.4em;box-sizing: border-box;padding-bottom: 0.4em;background-color: white;}#sk-container-id-1 div.sk-label label {font-family: monospace;font-weight: bold;display: inline-block;line-height: 1.2em;}#sk-container-id-1 div.sk-label-container {text-align: center;}#sk-container-id-1 div.sk-container {/* jupyter's `normalize.less` sets `[hidden] { display: none; }` but bootstrap.min.css set `[hidden] { display: none !important; }` so we also need the `!important` here to be able to override the default hidden behavior on the sphinx rendered scikit-learn.org. See: https://github.com/scikit-learn/scikit-learn/issues/21755 */display: inline-block !important;position: relative;}#sk-container-id-1 div.sk-text-repr-fallback {display: none;}</style><div id=\"sk-container-id-1\" class=\"sk-top-container\"><div class=\"sk-text-repr-fallback\"><pre>KNeighborsClassifier(n_neighbors=11)</pre><b>In a Jupyter environment, please rerun this cell to show the HTML representation or trust the notebook. <br />On GitHub, the HTML representation is unable to render, please try loading this page with nbviewer.org.</b></div><div class=\"sk-container\" hidden><div class=\"sk-item\"><div class=\"sk-estimator sk-toggleable\"><input class=\"sk-toggleable__control sk-hidden--visually\" id=\"sk-estimator-id-1\" type=\"checkbox\" checked><label for=\"sk-estimator-id-1\" class=\"sk-toggleable__label sk-toggleable__label-arrow\">KNeighborsClassifier</label><div class=\"sk-toggleable__content\"><pre>KNeighborsClassifier(n_neighbors=11)</pre></div></div></div></div></div>"
      ],
      "text/plain": [
       "KNeighborsClassifier(n_neighbors=11)"
      ]
     },
     "execution_count": 13,
     "metadata": {},
     "output_type": "execute_result"
    }
   ],
   "source": [
    "knn.fit(ctg_train_x , ctg_train_y)"
   ]
  },
  {
   "cell_type": "code",
   "execution_count": 14,
   "id": "25be3308",
   "metadata": {},
   "outputs": [],
   "source": [
    "pred_ctg_knn = knn.predict(ctg_test_x)"
   ]
  },
  {
   "cell_type": "markdown",
   "id": "4f1ba48b",
   "metadata": {},
   "source": [
    "# Confution matrix"
   ]
  },
  {
   "cell_type": "code",
   "execution_count": 15,
   "id": "02e052a0",
   "metadata": {},
   "outputs": [],
   "source": [
    "from sklearn.metrics import confusion_matrix\n",
    "tab_ctg = confusion_matrix(ctg_test_y , pred_ctg_knn)"
   ]
  },
  {
   "cell_type": "code",
   "execution_count": 16,
   "id": "9d2ce665",
   "metadata": {},
   "outputs": [
    {
     "data": {
      "text/plain": [
       "array([[296,  21,  12],\n",
       "       [ 32,  35,   3],\n",
       "       [ 13,   7,   7]], dtype=int64)"
      ]
     },
     "execution_count": 16,
     "metadata": {},
     "output_type": "execute_result"
    }
   ],
   "source": [
    "tab_ctg"
   ]
  },
  {
   "cell_type": "code",
   "execution_count": 17,
   "id": "2c4096ff",
   "metadata": {},
   "outputs": [
    {
     "data": {
      "text/plain": [
       "79.34272300469483"
      ]
     },
     "execution_count": 17,
     "metadata": {},
     "output_type": "execute_result"
    }
   ],
   "source": [
    "tab_ctg.diagonal().sum()*100/ tab_ctg.sum()"
   ]
  },
  {
   "cell_type": "code",
   "execution_count": 18,
   "id": "8467e91c",
   "metadata": {},
   "outputs": [],
   "source": [
    "# here you can do the rerunning of the model \n",
    "# by solving the problem of imbalance in class 1 and class 2"
   ]
  },
  {
   "cell_type": "markdown",
   "id": "4ff5e81e",
   "metadata": {},
   "source": [
    "# how to find k in Knn"
   ]
  },
  {
   "cell_type": "code",
   "execution_count": 19,
   "id": "c17c32be",
   "metadata": {},
   "outputs": [],
   "source": [
    "# accuracy vs stability\n",
    "# ---> \n",
    "# build you model 50 times for each model where k = 1,2,3,4,5....50\n",
    "# find accuracy and then you do the plot\n"
   ]
  },
  {
   "cell_type": "code",
   "execution_count": 20,
   "id": "1210e0f2",
   "metadata": {},
   "outputs": [
    {
     "data": {
      "text/plain": [
       "[81.69014084507042,\n",
       " 79.81220657276995,\n",
       " 79.10798122065728,\n",
       " 80.0469483568075,\n",
       " 77.46478873239437,\n",
       " 79.5774647887324,\n",
       " 78.87323943661971,\n",
       " 79.5774647887324,\n",
       " 80.75117370892019,\n",
       " 79.34272300469483,\n",
       " 79.34272300469483,\n",
       " 78.63849765258216,\n",
       " 78.63849765258216,\n",
       " 79.34272300469483,\n",
       " 79.34272300469483,\n",
       " 78.87323943661971,\n",
       " 76.7605633802817,\n",
       " 78.40375586854461,\n",
       " 78.16901408450704,\n",
       " 77.93427230046949,\n",
       " 78.16901408450704,\n",
       " 78.16901408450704,\n",
       " 78.16901408450704,\n",
       " 77.2300469483568,\n",
       " 77.2300469483568,\n",
       " 77.2300469483568,\n",
       " 78.40375586854461,\n",
       " 76.52582159624413,\n",
       " 76.99530516431925,\n",
       " 76.52582159624413,\n",
       " 78.16901408450704,\n",
       " 77.93427230046949,\n",
       " 77.93427230046949,\n",
       " 78.40375586854461,\n",
       " 77.69953051643192,\n",
       " 77.69953051643192,\n",
       " 77.69953051643192,\n",
       " 77.69953051643192,\n",
       " 77.93427230046949,\n",
       " 77.46478873239437,\n",
       " 77.2300469483568,\n",
       " 77.46478873239437,\n",
       " 77.93427230046949,\n",
       " 77.69953051643192,\n",
       " 77.69953051643192,\n",
       " 77.69953051643192,\n",
       " 77.93427230046949,\n",
       " 77.93427230046949,\n",
       " 77.93427230046949,\n",
       " 77.93427230046949]"
      ]
     },
     "execution_count": 20,
     "metadata": {},
     "output_type": "execute_result"
    }
   ],
   "source": [
    "# user define fuction for running the model 50 times\n",
    "\n",
    "acc = []\n",
    "\n",
    "for i in range(1,51):\n",
    "    knn = KNeighborsClassifier(n_neighbors=i)\n",
    "    knn.fit(ctg_train_x , ctg_train_y)\n",
    "    pred_ctg_knn = knn.predict(ctg_test_x)\n",
    "    tab_ctg = confusion_matrix(ctg_test_y , pred_ctg_knn)\n",
    "    acc.append(tab_ctg.diagonal().sum()*100/ tab_ctg.sum())\n",
    "acc   "
   ]
  },
  {
   "cell_type": "markdown",
   "id": "122165f0",
   "metadata": {},
   "source": [
    "# know plotting"
   ]
  },
  {
   "cell_type": "code",
   "execution_count": 21,
   "id": "1a78f011",
   "metadata": {},
   "outputs": [],
   "source": [
    "k_values = list(range(1,51))"
   ]
  },
  {
   "cell_type": "code",
   "execution_count": 22,
   "id": "7d57f68d",
   "metadata": {},
   "outputs": [
    {
     "data": {
      "text/plain": [
       "[<matplotlib.lines.Line2D at 0x2a649c08e50>]"
      ]
     },
     "execution_count": 22,
     "metadata": {},
     "output_type": "execute_result"
    },
    {
     "data": {
      "image/png": "[encoded data removed]",
      "text/plain": [
       "<Figure size 432x288 with 1 Axes>"
      ]
     },
     "metadata": {
      "needs_background": "light"
     },
     "output_type": "display_data"
    }
   ],
   "source": [
    "import matplotlib.pyplot as plt\n",
    "plt.plot(k_values , acc , \"*\")"
   ]
  },
  {
   "cell_type": "markdown",
   "id": "1333a782",
   "metadata": {},
   "source": [
    "# Here we will just check the best accuracy for model though the user define code and with data visualization"
   ]
  },
  {
   "cell_type": "code",
   "execution_count": null,
   "id": "a6a77dd7",
   "metadata": {},
   "outputs": [],
   "source": []
  }
 ],
 "metadata": {
  "kernelspec": {
   "display_name": "Python 3 (ipykernel)",
   "language": "python",
   "name": "python3"
  },
  "language_info": {
   "codemirror_mode": {
    "name": "ipython",
    "version": 3
   },
   "file_extension": ".py",
   "mimetype": "text/x-python",
   "name": "python",
   "nbconvert_exporter": "python",
   "pygments_lexer": "ipython3",
   "version": "3.10.5"
  }
 },
 "nbformat": 4,
 "nbformat_minor": 5
}
